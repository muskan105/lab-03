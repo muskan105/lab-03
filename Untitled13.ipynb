{
  "nbformat": 4,
  "nbformat_minor": 0,
  "metadata": {
    "colab": {
      "name": "Untitled13.ipynb",
      "provenance": [],
      "authorship_tag": "ABX9TyPgwzX0GP/xkvo6edt/CU7v",
      "include_colab_link": true
    },
    "kernelspec": {
      "name": "python3",
      "display_name": "Python 3"
    },
    "language_info": {
      "name": "python"
    }
  },
  "cells": [
    {
      "cell_type": "markdown",
      "metadata": {
        "id": "view-in-github",
        "colab_type": "text"
      },
      "source": [
        "<a href=\"https://colab.research.google.com/github/muskan105/lab-03/blob/main/Untitled13.ipynb\" target=\"_parent\"><img src=\"https://colab.research.google.com/assets/colab-badge.svg\" alt=\"Open In Colab\"/></a>"
      ]
    },
    {
      "cell_type": "code",
      "metadata": {
        "id": "o5ogTFukaR2Q"
      },
      "source": [
        ""
      ],
      "execution_count": null,
      "outputs": []
    },
    {
      "cell_type": "markdown",
      "metadata": {
        "id": "eNTtin4ha1zA"
      },
      "source": [
        "create a list with tuples inside it(series) calculate the sum of elements in tuple and store the sum of tuples in second list.\n",
        "\n"
      ]
    },
    {
      "cell_type": "code",
      "metadata": {
        "colab": {
          "base_uri": "https://localhost:8080/"
        },
        "id": "LWWBSwDZbLZX",
        "outputId": "a277aadd-d0de-4684-b5b7-4f1151242b5f"
      },
      "source": [
        "def test(lst):\n",
        "    result =  map(sum, lst)\n",
        "    return list(result)\n",
        "\n",
        "nums = [(1,2), (2,3), (3,4)]\n",
        "print(\"Original list of tuples:\")\n",
        "print(nums)\n",
        "print(\"\\nSum of all the elements of each tuple stored inside the said list of tuples:\")\n",
        "print(test(nums))\n",
        "\n",
        "nums = [(1,2,6), (2,3,-6), (3,4), (2,2,2,2)]\n",
        "print(\"\\nOriginal list of tuples:\")\n",
        "print(nums)\n",
        "print(\"\\nSum of all the elements of each tuple stored inside the said list of tuples:\")\n",
        "print(test(nums))"
      ],
      "execution_count": 1,
      "outputs": [
        {
          "output_type": "stream",
          "text": [
            "Original list of tuples:\n",
            "[(1, 2), (2, 3), (3, 4)]\n",
            "\n",
            "Sum of all the elements of each tuple stored inside the said list of tuples:\n",
            "[3, 5, 7]\n",
            "\n",
            "Original list of tuples:\n",
            "[(1, 2, 6), (2, 3, -6), (3, 4), (2, 2, 2, 2)]\n",
            "\n",
            "Sum of all the elements of each tuple stored inside the said list of tuples:\n",
            "[9, -1, 7, 8]\n"
          ],
          "name": "stdout"
        }
      ]
    }
  ]
}